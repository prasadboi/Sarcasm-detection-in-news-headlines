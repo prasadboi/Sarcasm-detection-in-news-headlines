{
 "cells": [
  {
   "cell_type": "markdown",
   "metadata": {},
   "source": [
    "## LOAD DATA"
   ]
  },
  {
   "cell_type": "code",
   "execution_count": 1,
   "metadata": {},
   "outputs": [],
   "source": [
    "import numpy as np\n",
    "import pandas as pd\n",
    "import tensorflow as tf\n",
    "from tensorflow import keras\n",
    "from keras.utils.np_utils import to_categorical\n",
    "import re, string , unicodedata\n",
    "import matplotlib.pyplot as plt\n",
    "from sklearn.metrics import accuracy_score, f1_score, precision_score, recall_score, classification_report, confusion_matrix"
   ]
  },
  {
   "cell_type": "code",
   "execution_count": 2,
   "metadata": {},
   "outputs": [],
   "source": [
    "import nltk\n",
    "# nltk.download()"
   ]
  },
  {
   "cell_type": "code",
   "execution_count": 3,
   "metadata": {},
   "outputs": [
    {
     "data": {
      "text/html": [
       "<div>\n",
       "<style scoped>\n",
       "    .dataframe tbody tr th:only-of-type {\n",
       "        vertical-align: middle;\n",
       "    }\n",
       "\n",
       "    .dataframe tbody tr th {\n",
       "        vertical-align: top;\n",
       "    }\n",
       "\n",
       "    .dataframe thead th {\n",
       "        text-align: right;\n",
       "    }\n",
       "</style>\n",
       "<table border=\"1\" class=\"dataframe\">\n",
       "  <thead>\n",
       "    <tr style=\"text-align: right;\">\n",
       "      <th></th>\n",
       "      <th>article_link</th>\n",
       "      <th>headline</th>\n",
       "      <th>is_sarcastic</th>\n",
       "    </tr>\n",
       "  </thead>\n",
       "  <tbody>\n",
       "    <tr>\n",
       "      <th>0</th>\n",
       "      <td>https://www.huffingtonpost.com/entry/versace-b...</td>\n",
       "      <td>former versace store clerk sues over secret 'b...</td>\n",
       "      <td>0</td>\n",
       "    </tr>\n",
       "    <tr>\n",
       "      <th>1</th>\n",
       "      <td>https://www.huffingtonpost.com/entry/roseanne-...</td>\n",
       "      <td>the 'roseanne' revival catches up to our thorn...</td>\n",
       "      <td>0</td>\n",
       "    </tr>\n",
       "    <tr>\n",
       "      <th>2</th>\n",
       "      <td>https://local.theonion.com/mom-starting-to-fea...</td>\n",
       "      <td>mom starting to fear son's web series closest ...</td>\n",
       "      <td>1</td>\n",
       "    </tr>\n",
       "    <tr>\n",
       "      <th>3</th>\n",
       "      <td>https://politics.theonion.com/boehner-just-wan...</td>\n",
       "      <td>boehner just wants wife to listen, not come up...</td>\n",
       "      <td>1</td>\n",
       "    </tr>\n",
       "    <tr>\n",
       "      <th>4</th>\n",
       "      <td>https://www.huffingtonpost.com/entry/jk-rowlin...</td>\n",
       "      <td>j.k. rowling wishes snape happy birthday in th...</td>\n",
       "      <td>0</td>\n",
       "    </tr>\n",
       "  </tbody>\n",
       "</table>\n",
       "</div>"
      ],
      "text/plain": [
       "                                        article_link  \\\n",
       "0  https://www.huffingtonpost.com/entry/versace-b...   \n",
       "1  https://www.huffingtonpost.com/entry/roseanne-...   \n",
       "2  https://local.theonion.com/mom-starting-to-fea...   \n",
       "3  https://politics.theonion.com/boehner-just-wan...   \n",
       "4  https://www.huffingtonpost.com/entry/jk-rowlin...   \n",
       "\n",
       "                                            headline  is_sarcastic  \n",
       "0  former versace store clerk sues over secret 'b...             0  \n",
       "1  the 'roseanne' revival catches up to our thorn...             0  \n",
       "2  mom starting to fear son's web series closest ...             1  \n",
       "3  boehner just wants wife to listen, not come up...             1  \n",
       "4  j.k. rowling wishes snape happy birthday in th...             0  "
      ]
     },
     "execution_count": 3,
     "metadata": {},
     "output_type": "execute_result"
    }
   ],
   "source": [
    "df = pd.read_json('newsHeadlines/Sarcasm_Headlines_Dataset.json', lines = True, orient = 'columns')\n",
    "df_v2 = pd.read_json('newsHeadlines/Sarcasm_Headlines_Dataset_v2.json', lines = True, orient = 'columns')\n",
    "df = pd.concat([df, df_v2])\n",
    "df.head()"
   ]
  },
  {
   "cell_type": "code",
   "execution_count": 4,
   "metadata": {},
   "outputs": [
    {
     "name": "stdout",
     "output_type": "stream",
     "text": [
      "article_link    0\n",
      "headline        0\n",
      "is_sarcastic    0\n",
      "dtype: int64\n",
      "\n",
      "<class 'pandas.core.frame.DataFrame'>\n",
      "Int64Index: 55328 entries, 0 to 28618\n",
      "Data columns (total 2 columns):\n",
      " #   Column        Non-Null Count  Dtype \n",
      "---  ------        --------------  ----- \n",
      " 0   headline      55328 non-null  object\n",
      " 1   is_sarcastic  55328 non-null  int64 \n",
      "dtypes: int64(1), object(1)\n",
      "memory usage: 1.3+ MB\n"
     ]
    }
   ],
   "source": [
    "print(df.isna().sum())\n",
    "print('')\n",
    "df.drop(columns= ['article_link'], inplace= True)\n",
    "df.info()"
   ]
  },
  {
   "cell_type": "markdown",
   "metadata": {},
   "source": [
    "## DATA CLEANING and PREPROCESSING\n"
   ]
  },
  {
   "cell_type": "code",
   "execution_count": 5,
   "metadata": {},
   "outputs": [],
   "source": [
    "# convert to lowercase\n",
    "df['headline'] = df['headline'].apply(lambda x: x.lower())\n",
    "\n",
    "# remove punctuation\n",
    "df['headline'] = df['headline'].apply(lambda x: ' '.join(\n",
    "    word.strip(string.punctuation) for word in x.split()))\n",
    "\n",
    "# remove stopwords\n",
    "stopwords = nltk.corpus.stopwords.words('english')\n",
    "headline = []\n",
    "for sentence in df['headline']:\n",
    "    filtered_list = []\n",
    "    for word in sentence.split():\n",
    "        if word not in stopwords:\n",
    "            filtered_list.append(word)\n",
    "    join_string = ' '.join([str(i) for i in filtered_list])\n",
    "    headline.append(join_string)\n",
    "df['headline'] = headline"
   ]
  },
  {
   "cell_type": "code",
   "execution_count": 6,
   "metadata": {},
   "outputs": [],
   "source": [
    "from sklearn.model_selection import train_test_split\n",
    "train_data, test_data = train_test_split(df, test_size = 0.2)\n",
    "\n",
    "train_sentences = list(train_data['headline'])\n",
    "train_labels = list(train_data['is_sarcastic'])\n",
    "\n",
    "test_sentences = list(test_data['headline'])\n",
    "test_labels = list(test_data['is_sarcastic'])\n",
    "\n",
    "train_labels = np.array(train_labels)\n",
    "test_labels = np.array(test_labels)"
   ]
  },
  {
   "cell_type": "code",
   "execution_count": 7,
   "metadata": {},
   "outputs": [
    {
     "name": "stderr",
     "output_type": "stream",
     "text": [
      "C:\\Users\\apein\\Anaconda3\\envs\\DL_tf\\lib\\site-packages\\seaborn\\distributions.py:2619: FutureWarning: `distplot` is a deprecated function and will be removed in a future version. Please adapt your code to use either `displot` (a figure-level function with similar flexibility) or `histplot` (an axes-level function for histograms).\n",
      "  warnings.warn(msg, FutureWarning)\n"
     ]
    },
    {
     "data": {
      "text/plain": [
       "25.0"
      ]
     },
     "execution_count": 7,
     "metadata": {},
     "output_type": "execute_result"
    },
    {
     "data": {
      "image/png": "[encoded data removed]",
      "text/plain": [
       "<Figure size 432x288 with 1 Axes>"
      ]
     },
     "metadata": {
      "needs_background": "light"
     },
     "output_type": "display_data"
    }
   ],
   "source": [
    "import seaborn as sns\n",
    "headline_lengths = df['headline'].apply(lambda x: len(x.split())) \n",
    "sns.distplot(headline_lengths)\n",
    "headline_lengths.quantile(0.9999)"
   ]
  },
  {
   "cell_type": "code",
   "execution_count": 8,
   "metadata": {},
   "outputs": [],
   "source": [
    "from tensorflow.keras.preprocessing.text import Tokenizer\n",
    "from tensorflow.keras.preprocessing.sequence import pad_sequences\n",
    "\n",
    "embedding_dim = 100\n",
    "# as noted from above plot and data we see that 99.99% of headlines are of length 25 or less\n",
    "# hence it is safe to assume that the suitable max length of a headline is 31\n",
    "max_length = 32\n",
    "\n",
    "oov_tok = '<OOV>'\n",
    "trunc_type = 'post'\n",
    "\n",
    "\n",
    "tokenizer = Tokenizer(oov_token= oov_tok)\n",
    "tokenizer.fit_on_texts(train_sentences)\n",
    "word_idx = tokenizer.word_index\n",
    "vocab_size = len(word_idx)\n",
    "\n",
    "training_sequences = tokenizer.texts_to_sequences(train_sentences)\n",
    "training_padded = pad_sequences(training_sequences, maxlen= max_length, padding= 'post', truncating= trunc_type)\n",
    "\n",
    "testing_sequences = tokenizer.texts_to_sequences(test_sentences)\n",
    "testing_padded = pad_sequences(testing_sequences, maxlen= max_length, padding= 'post', truncating= trunc_type)"
   ]
  },
  {
   "cell_type": "code",
   "execution_count": 9,
   "metadata": {},
   "outputs": [
    {
     "name": "stdout",
     "output_type": "stream",
     "text": [
      "[2552, 287, 14266, 3258, 2, 3134, 67, 1170, 22385]\n",
      "[ 2552   287 14266  3258     2  3134    67  1170 22385     0     0     0\n",
      "     0     0     0     0     0     0     0     0     0     0     0     0\n",
      "     0     0     0     0     0     0     0     0]\n"
     ]
    }
   ],
   "source": [
    "print(training_sequences[0])\n",
    "print(training_padded[0])"
   ]
  },
  {
   "cell_type": "code",
   "execution_count": 10,
   "metadata": {},
   "outputs": [
    {
     "name": "stdout",
     "output_type": "stream",
     "text": [
      "(44262, 32)\n",
      "(11066, 32)\n"
     ]
    }
   ],
   "source": [
    "training_padded = np.array(training_padded)\n",
    "print(training_padded.shape)\n",
    "\n",
    "testing_padded = np.array(testing_padded)\n",
    "print(testing_padded.shape)"
   ]
  },
  {
   "cell_type": "markdown",
   "metadata": {},
   "source": [
    "## MODEL"
   ]
  },
  {
   "cell_type": "markdown",
   "metadata": {},
   "source": [
    "### with dropout"
   ]
  },
  {
   "cell_type": "code",
   "execution_count": 11,
   "metadata": {},
   "outputs": [
    {
     "name": "stdout",
     "output_type": "stream",
     "text": [
      "Model: \"sequential\"\n",
      "_________________________________________________________________\n",
      "Layer (type)                 Output Shape              Param #   \n",
      "=================================================================\n",
      "embedding (Embedding)        (None, 32, 100)           2693000   \n",
      "_________________________________________________________________\n",
      "conv1d (Conv1D)              (None, 32, 128)           12928     \n",
      "_________________________________________________________________\n",
      "max_pooling1d (MaxPooling1D) (None, 16, 128)           0         \n",
      "_________________________________________________________________\n",
      "bidirectional (Bidirectional (None, 128)               98816     \n",
      "_________________________________________________________________\n",
      "dense (Dense)                (None, 100)               12900     \n",
      "_________________________________________________________________\n",
      "dropout (Dropout)            (None, 100)               0         \n",
      "_________________________________________________________________\n",
      "dense_1 (Dense)              (None, 1)                 101       \n",
      "=================================================================\n",
      "Total params: 2,817,745\n",
      "Trainable params: 2,817,745\n",
      "Non-trainable params: 0\n",
      "_________________________________________________________________\n"
     ]
    }
   ],
   "source": [
    "model1d = tf.keras.Sequential([\n",
    "    keras.layers.Embedding(vocab_size + 1, embedding_dim, input_length= max_length),\n",
    "    keras.layers.Conv1D(128, 1, activation= 'relu'),\n",
    "    keras.layers.MaxPooling1D(2, padding= 'same'),\n",
    "    keras.layers.Bidirectional(keras.layers.LSTM(64)),\n",
    "    keras.layers.Dense(100, kernel_regularizer=keras.regularizers.l1(0.01), activation= 'relu'),\n",
    "    keras.layers.Dropout(0.2),\n",
    "    keras.layers.Dense(1, kernel_regularizer = keras.regularizers.l1(0.01), activation= 'sigmoid')\n",
    "])\n",
    "\n",
    "model1d.compile(loss= 'binary_crossentropy', optimizer= 'adam', metrics= ['accuracy'])\n",
    "model1d.summary()"
   ]
  },
  {
   "cell_type": "code",
   "execution_count": 12,
   "metadata": {},
   "outputs": [
    {
     "name": "stdout",
     "output_type": "stream",
     "text": [
      "Epoch 1/10\n",
      "1107/1107 [==============================] - 72s 59ms/step - loss: 1.1167 - accuracy: 0.7725 - val_loss: 0.4637 - val_accuracy: 0.8626\n",
      "Epoch 2/10\n",
      "1107/1107 [==============================] - 59s 54ms/step - loss: 0.3616 - accuracy: 0.9210 - val_loss: 0.3997 - val_accuracy: 0.8946\n",
      "Epoch 3/10\n",
      "1107/1107 [==============================] - 59s 53ms/step - loss: 0.2669 - accuracy: 0.9607 - val_loss: 0.3937 - val_accuracy: 0.9047\n",
      "Epoch 4/10\n",
      "1107/1107 [==============================] - 65s 59ms/step - loss: 0.2246 - accuracy: 0.9769 - val_loss: 0.4086 - val_accuracy: 0.9096\n",
      "Epoch 5/10\n",
      "1107/1107 [==============================] - 62s 56ms/step - loss: 0.2050 - accuracy: 0.9840 - val_loss: 0.4217 - val_accuracy: 0.9097\n",
      "Epoch 6/10\n",
      "1107/1107 [==============================] - 62s 56ms/step - loss: 0.1913 - accuracy: 0.9879 - val_loss: 0.4312 - val_accuracy: 0.9102\n",
      "Epoch 7/10\n",
      "1107/1107 [==============================] - 71s 64ms/step - loss: 0.1836 - accuracy: 0.9905 - val_loss: 0.4537 - val_accuracy: 0.9084\n",
      "Epoch 8/10\n",
      "1107/1107 [==============================] - 78s 70ms/step - loss: 0.1770 - accuracy: 0.9919 - val_loss: 0.4468 - val_accuracy: 0.9122\n",
      "Epoch 9/10\n",
      "1107/1107 [==============================] - 77s 69ms/step - loss: 0.1748 - accuracy: 0.9929 - val_loss: 0.4476 - val_accuracy: 0.9119\n",
      "Epoch 10/10\n",
      "1107/1107 [==============================] - 83s 75ms/step - loss: 0.1700 - accuracy: 0.9940 - val_loss: 0.4761 - val_accuracy: 0.9112\n",
      "0.9076450388577625\n",
      "0.8994865718799369\n",
      "0.898776637726914\n",
      "0.8991314646664034\n"
     ]
    }
   ],
   "source": [
    "history = model1d.fit(training_padded, train_labels, epochs= 10, validation_split= 0.2)\n",
    "res = (model1d.predict(testing_padded) > 0.5).astype(int).reshape(-1)\n",
    "print(accuracy_score(y_true = test_labels, y_pred = res))\n",
    "print(recall_score(y_true = test_labels, y_pred = res))\n",
    "print(precision_score(y_true = test_labels, y_pred = res))\n",
    "print(f1_score(y_true = test_labels, y_pred = res))"
   ]
  },
  {
   "cell_type": "code",
   "execution_count": 13,
   "metadata": {},
   "outputs": [
    {
     "data": {
      "text/plain": [
       "<matplotlib.legend.Legend at 0x21fea7eaac0>"
      ]
     },
     "execution_count": 13,
     "metadata": {},
     "output_type": "execute_result"
    },
    {
     "data": {
      "image/png": "[encoded data removed]",
      "text/plain": [
       "<Figure size 432x288 with 1 Axes>"
      ]
     },
     "metadata": {
      "needs_background": "light"
     },
     "output_type": "display_data"
    },
    {
     "data": {
      "image/png": "[encoded data removed]",
      "text/plain": [
       "<Figure size 432x288 with 1 Axes>"
      ]
     },
     "metadata": {
      "needs_background": "light"
     },
     "output_type": "display_data"
    }
   ],
   "source": [
    "plt.plot(history.history['loss'], label='Training loss')\n",
    "plt.plot(history.history['val_loss'], color='red', label='cv loss')\n",
    "plt.legend()\n",
    "plt.figure()\n",
    "plt.plot(history.history['accuracy'], label='Training accuracy')\n",
    "plt.plot(history.history['val_accuracy'], color='red', label='cv accuracy')\n",
    "plt.legend()"
   ]
  },
  {
   "cell_type": "markdown",
   "metadata": {},
   "source": [
    "### without dropout"
   ]
  },
  {
   "cell_type": "code",
   "execution_count": 14,
   "metadata": {},
   "outputs": [
    {
     "name": "stdout",
     "output_type": "stream",
     "text": [
      "Model: \"sequential_1\"\n",
      "_________________________________________________________________\n",
      "Layer (type)                 Output Shape              Param #   \n",
      "=================================================================\n",
      "embedding_1 (Embedding)      (None, 32, 100)           2693000   \n",
      "_________________________________________________________________\n",
      "conv1d_1 (Conv1D)            (None, 32, 128)           12928     \n",
      "_________________________________________________________________\n",
      "max_pooling1d_1 (MaxPooling1 (None, 16, 128)           0         \n",
      "_________________________________________________________________\n",
      "bidirectional_1 (Bidirection (None, 128)               98816     \n",
      "_________________________________________________________________\n",
      "dense_2 (Dense)              (None, 100)               12900     \n",
      "_________________________________________________________________\n",
      "dense_3 (Dense)              (None, 1)                 101       \n",
      "=================================================================\n",
      "Total params: 2,817,745\n",
      "Trainable params: 2,817,745\n",
      "Non-trainable params: 0\n",
      "_________________________________________________________________\n",
      "Epoch 1/10\n",
      "1107/1107 [==============================] - 82s 69ms/step - loss: 1.0854 - accuracy: 0.7816 - val_loss: 0.4294 - val_accuracy: 0.8625\n",
      "Epoch 2/10\n",
      "1107/1107 [==============================] - 76s 68ms/step - loss: 0.2999 - accuracy: 0.9286 - val_loss: 0.3733 - val_accuracy: 0.8947\n",
      "Epoch 3/10\n",
      "1107/1107 [==============================] - 66s 59ms/step - loss: 0.2044 - accuracy: 0.9660 - val_loss: 0.3512 - val_accuracy: 0.9076\n",
      "Epoch 4/10\n",
      "1107/1107 [==============================] - 66s 59ms/step - loss: 0.1553 - accuracy: 0.9822 - val_loss: 0.3455 - val_accuracy: 0.9135\n",
      "Epoch 5/10\n",
      "1107/1107 [==============================] - 68s 61ms/step - loss: 0.1306 - accuracy: 0.9893 - val_loss: 0.3602 - val_accuracy: 0.9143\n",
      "Epoch 6/10\n",
      "1107/1107 [==============================] - 65s 59ms/step - loss: 0.1162 - accuracy: 0.9933 - val_loss: 0.3746 - val_accuracy: 0.9146\n",
      "Epoch 7/10\n",
      "1107/1107 [==============================] - 64s 57ms/step - loss: 0.1104 - accuracy: 0.9944 - val_loss: 0.3937 - val_accuracy: 0.9157\n",
      "Epoch 8/10\n",
      "1107/1107 [==============================] - 67s 60ms/step - loss: 0.1054 - accuracy: 0.9957 - val_loss: 0.3958 - val_accuracy: 0.9109\n",
      "Epoch 9/10\n",
      "1107/1107 [==============================] - 65s 59ms/step - loss: 0.1014 - accuracy: 0.9965 - val_loss: 0.4097 - val_accuracy: 0.9130\n",
      "Epoch 10/10\n",
      "1107/1107 [==============================] - 73s 66ms/step - loss: 0.0978 - accuracy: 0.9971 - val_loss: 0.4228 - val_accuracy: 0.9120\n",
      "0.9080968733056208\n",
      "0.9085703001579779\n",
      "0.8925315227934044\n",
      "0.9004794989725022\n"
     ]
    }
   ],
   "source": [
    "model1 = tf.keras.Sequential([\n",
    "    keras.layers.Embedding(vocab_size + 1, embedding_dim, input_length= max_length),\n",
    "    keras.layers.Conv1D(128, 1, activation= 'relu'),\n",
    "    keras.layers.MaxPooling1D(2, padding= 'same'),\n",
    "    keras.layers.Bidirectional(keras.layers.LSTM(64)),\n",
    "    keras.layers.Dense(100, kernel_regularizer=keras.regularizers.l1(0.01), activation= 'relu'),\n",
    "    keras.layers.Dense(1, kernel_regularizer = keras.regularizers.l1(0.01), activation= 'sigmoid')\n",
    "])\n",
    "\n",
    "model1.compile(loss= 'binary_crossentropy', optimizer= 'adam', metrics= ['accuracy'])\n",
    "model1.summary()\n",
    "\n",
    "history = model1.fit(training_padded, train_labels, epochs= 10, validation_split= 0.2)\n",
    "res = (model1.predict(testing_padded) > 0.5).astype(int).reshape(-1)\n",
    "print(accuracy_score(y_true = test_labels, y_pred = res))\n",
    "print(recall_score(y_true = test_labels, y_pred = res))\n",
    "print(precision_score(y_true = test_labels, y_pred = res))\n",
    "print(f1_score(y_true = test_labels, y_pred = res))"
   ]
  },
  {
   "cell_type": "code",
   "execution_count": 15,
   "metadata": {},
   "outputs": [
    {
     "data": {
      "text/plain": [
       "<matplotlib.legend.Legend at 0x21f83801ca0>"
      ]
     },
     "execution_count": 15,
     "metadata": {},
     "output_type": "execute_result"
    },
    {
     "data": {
      "image/png": "[encoded data removed]",
      "text/plain": [
       "<Figure size 432x288 with 1 Axes>"
      ]
     },
     "metadata": {
      "needs_background": "light"
     },
     "output_type": "display_data"
    },
    {
     "data": {
      "image/png": "[encoded data removed]",
      "text/plain": [
       "<Figure size 432x288 with 1 Axes>"
      ]
     },
     "metadata": {
      "needs_background": "light"
     },
     "output_type": "display_data"
    }
   ],
   "source": [
    "plt.plot(history.history['loss'], label='Training loss')\n",
    "plt.plot(history.history['val_loss'], color='red', label='cv loss')\n",
    "plt.legend()\n",
    "plt.figure()\n",
    "plt.plot(history.history['accuracy'], label='Training accuracy')\n",
    "plt.plot(history.history['val_accuracy'], color='red', label='cv accuracy')\n",
    "plt.legend()"
   ]
  },
  {
   "cell_type": "markdown",
   "metadata": {},
   "source": [
    "## models with GLOVE embeddings layer as i/p"
   ]
  },
  {
   "cell_type": "code",
   "execution_count": 16,
   "metadata": {},
   "outputs": [],
   "source": [
    "embeddings_idx = {}\n",
    "with open('glove.6B.100d.txt', encoding= 'utf-8') as f:\n",
    "    for line in f:\n",
    "        values = line.split()\n",
    "        word = values[0]\n",
    "        coefs = np.asarray(values[1:], dtype= 'float32')\n",
    "        embeddings_idx[word] = coefs\n",
    "        \n",
    "embedding_matrix = np.zeros((vocab_size + 1, embedding_dim))\n",
    "for key in sorted(word_idx, key= word_idx.get)[:vocab_size]:\n",
    "    embedding_vec = embeddings_idx.get(key)\n",
    "    if embedding_vec is not None:\n",
    "        embedding_matrix[word_idx[key]] = embedding_vec\n"
   ]
  },
  {
   "cell_type": "code",
   "execution_count": 17,
   "metadata": {},
   "outputs": [
    {
     "data": {
      "text/plain": [
       "(26930, 100)"
      ]
     },
     "execution_count": 17,
     "metadata": {},
     "output_type": "execute_result"
    }
   ],
   "source": [
    "embedding_matrix.shape"
   ]
  },
  {
   "cell_type": "code",
   "execution_count": 18,
   "metadata": {},
   "outputs": [
    {
     "name": "stdout",
     "output_type": "stream",
     "text": [
      "<OOV> 1\n",
      "new 2\n",
      "trump 3\n",
      "man 4\n",
      "report 5\n",
      "one 6\n",
      "year 7\n",
      "day 8\n",
      "area 9\n",
      "u 10\n"
     ]
    }
   ],
   "source": [
    "for key in sorted(word_idx, key=word_idx.get)[:10]:\n",
    "  print(key,end=' ')\n",
    "  print(word_idx.get(key))"
   ]
  },
  {
   "cell_type": "code",
   "execution_count": 19,
   "metadata": {},
   "outputs": [
    {
     "name": "stdout",
     "output_type": "stream",
     "text": [
      "<OOV> None\n",
      "new [-4.3959e-02  1.8936e-01  6.6110e-01 -4.9007e-01  3.2211e-01 -3.4161e-01\n",
      " -6.8480e-02  3.1364e-01 -7.1142e-01  5.7436e-01 -3.3588e-01 -5.2279e-01\n",
      " -3.9075e-01 -8.9694e-02  4.6371e-01 -3.5610e-01  8.4576e-01 -2.6188e-02\n",
      " -1.9328e-01 -8.3846e-02  3.1806e-01 -1.9812e-01  3.0009e-01  6.9189e-02\n",
      "  5.4470e-01 -5.9193e-01  5.4221e-01 -6.2876e-01 -5.3447e-01  4.2334e-01\n",
      "  3.0869e-02  9.7164e-01 -5.6222e-01  4.5752e-02 -5.7100e-01  8.0185e-02\n",
      " -8.1434e-02 -6.0260e-01  1.6466e-01 -4.0281e-01 -4.7701e-01 -5.1950e-01\n",
      "  1.2777e-01 -4.3775e-01  2.6602e-01  4.8752e-01 -6.0220e-02 -5.2622e-01\n",
      "  3.7687e-01 -1.8007e-01  3.0166e-02 -9.4577e-02  1.6330e-01  5.9041e-01\n",
      " -4.8877e-01 -3.4230e+00  1.3113e-01 -8.0386e-02  1.8978e+00  1.8857e-01\n",
      " -5.7300e-01  8.6358e-01  2.1116e-03  3.6060e-01  8.0475e-01 -1.3954e-01\n",
      " -5.3935e-02  3.8873e-01  3.0673e-01 -3.1395e-01  8.3238e-02 -4.1737e-01\n",
      " -1.0998e+00 -8.8005e-01  2.1550e-01 -2.6132e-01 -1.0091e-01  7.9584e-02\n",
      " -1.2341e+00 -6.5281e-01  6.3363e-01 -9.8491e-02  3.3518e-01  2.6332e-01\n",
      " -9.6427e-01 -1.4150e-02  3.0849e-01 -3.1418e-01 -4.0793e-01 -4.2900e-01\n",
      "  8.5451e-02 -2.0073e-01  5.5050e-02 -4.0922e-02 -9.4015e-01  6.9544e-02\n",
      " -4.5397e-01 -1.4168e-01  9.2789e-01  5.9058e-01]\n",
      "trump [-0.15731  -0.75503   0.36845  -0.18958  -0.16896  -0.23157  -0.22658\n",
      " -0.30186   0.24372   0.61896   0.58995   0.047638 -0.055164 -0.70211\n",
      "  0.22084  -0.69232   0.49419   1.4285   -0.25362   0.20031  -0.26192\n",
      "  0.05315  -0.048418 -0.44982   0.54644  -0.014645 -0.015531 -0.61197\n",
      " -0.91964  -0.7528    0.64843   1.0934    0.052682  0.33345   0.10532\n",
      "  0.59517   0.023104 -0.37105   0.29749  -0.23683   0.079566 -0.10326\n",
      "  0.35885  -0.28935  -0.19881   0.22908  -0.061435  0.56127  -0.017115\n",
      " -0.32868  -0.78417  -0.49375   0.34944   0.16278  -0.061168 -1.3106\n",
      "  0.39152   0.124    -0.20873  -0.18473  -0.56184   0.55693   0.012114\n",
      " -0.54545  -0.31409   0.1       0.31543   0.74757  -0.47734  -0.18332\n",
      " -0.65623   0.40768  -0.30697  -0.47247  -0.7421   -0.44978  -0.078122\n",
      " -0.52673  -0.70633   1.3271    0.26298  -0.91      0.91632  -0.51643\n",
      "  0.20284  -0.25402  -1.2566    0.20271   0.92105  -0.57574  -0.15105\n",
      " -0.24831   0.36673  -0.53987   0.18534   0.25713   0.38794  -0.54137\n",
      "  0.67817  -0.17251 ]\n",
      "man [ 3.7293e-01  3.8503e-01  7.1086e-01 -6.5911e-01 -1.0128e-03  9.2715e-01\n",
      "  2.7615e-01 -5.6203e-02 -2.4294e-01  2.4632e-01 -1.8449e-01  3.1398e-01\n",
      "  4.8983e-01  9.2560e-02  3.2958e-01  1.5056e-01  5.7317e-01 -1.8529e-01\n",
      " -5.2277e-01  4.6191e-01  9.2038e-01  3.1001e-02 -1.6246e-01 -4.0567e-01\n",
      "  7.8621e-01  5.7722e-01 -5.3501e-01 -6.8228e-01  1.6987e-01  3.6310e-01\n",
      " -7.1773e-02  4.7233e-01  2.7806e-02 -1.4951e-01  1.7543e-01 -3.7573e-01\n",
      " -7.8517e-01  5.8171e-01  8.6859e-01  3.1445e-02 -4.5897e-01 -4.0917e-02\n",
      "  9.5897e-01 -1.6975e-01  1.3045e-01  2.7434e-01 -6.9485e-02  2.2402e-02\n",
      "  2.4977e-01 -2.1536e-01 -3.2406e-01 -3.9867e-01  6.8613e-01  1.7923e+00\n",
      " -3.7848e-01 -2.2477e+00 -7.7025e-01  4.6582e-01  1.2411e+00  5.7756e-01\n",
      "  4.1151e-01  8.4328e-01 -5.4259e-01 -1.6715e-01  7.3927e-01 -9.3477e-02\n",
      "  9.0278e-01  5.0889e-01 -5.0031e-01  2.6451e-01  1.5443e-01 -2.9432e-01\n",
      "  1.0906e-01 -2.6667e-01  3.5438e-01  4.9079e-02  1.8018e-01 -5.8590e-01\n",
      " -5.5542e-01 -2.8987e-01  7.4278e-01  3.4530e-01 -2.8757e-02 -2.2646e-01\n",
      " -1.3113e+00 -5.7190e-01 -5.2306e-01 -1.2670e-01 -9.8678e-02 -5.3463e-01\n",
      "  2.8607e-01 -3.7501e-01  4.5742e-01  4.5975e-02 -2.4675e-01  4.5656e-02\n",
      " -3.8302e-01 -9.3711e-01  3.9138e-02 -5.3911e-01]\n",
      "report [-0.59537   -0.32836    0.58577   -0.74072   -0.09532   -0.74893\n",
      " -0.28177    0.52217    0.31904    0.083793   0.50095    0.10168\n",
      "  0.31447    0.26187   -0.11273    0.76669    0.044041  -0.58808\n",
      " -0.51672   -0.14013    0.24544   -0.678     -0.24864    0.87743\n",
      " -0.64057   -0.62382    0.36739   -0.20345   -0.50641    0.52411\n",
      "  0.28528   -0.11386   -0.47109    0.26002   -0.46366    0.27499\n",
      "  0.06741    0.31625   -0.22564    0.029032  -1.3492     0.19262\n",
      " -0.66144    0.20876    0.24751   -0.33938   -0.18857   -0.88209\n",
      " -0.46367   -1.3514     1.2399    -0.080302   0.14926    0.70604\n",
      " -0.50818   -2.225     -0.20132   -0.33361    1.8033     0.066711\n",
      " -0.49835    0.027327  -0.30273   -0.60213    0.4461    -0.4295\n",
      " -0.091883   0.57811    0.58537    0.4652     0.11657    0.36907\n",
      " -0.3127    -0.35623    0.30122    0.35685    0.043412   0.054971\n",
      " -1.9139    -0.094874   0.59941    0.60765   -0.64818   -0.39301\n",
      " -1.1928    -1.3394     0.54517   -0.33547   -0.20778   -0.020578\n",
      "  0.63703   -0.41109   -0.12349   -0.29479   -0.032713   0.83004\n",
      " -0.0063338 -0.46121    0.52141    0.16243  ]\n",
      "one [-0.22557   0.49418   0.4861   -0.4332    0.13738   0.50617   0.26058\n",
      "  0.30103  -0.091486  0.10876   0.3058    0.051028  0.22303   0.054236\n",
      "  0.068838 -0.24701   0.32689  -0.082203 -0.28866   0.3734    0.73804\n",
      " -0.040969  0.040201  0.11384   0.69987  -0.49745  -0.06755  -0.42599\n",
      " -0.10725  -0.010697 -0.01479   0.55976   0.3064    0.053053  0.058034\n",
      "  0.32756  -0.37233   0.46513   0.14285  -0.085003 -0.45476   0.19773\n",
      "  0.6383   -0.31148   0.10858   0.31557   0.36682  -0.35135  -0.48414\n",
      " -0.33235  -0.33816  -0.39678   0.1908    1.3513   -0.39044  -2.8795\n",
      " -0.14276  -0.087754  1.7713    0.99332  -0.14129   0.94389   0.050897\n",
      "  0.47373   0.86387  -0.16162   0.67199   0.52344   0.14438  -0.055194\n",
      " -0.34669  -0.20742   0.18907  -0.19845   0.34862   0.10121  -0.092119\n",
      " -0.66258  -1.0582   -0.11803   0.70171   0.077776 -0.50546   0.032243\n",
      " -1.6176   -0.29302  -0.061748 -0.32473   0.3439   -0.44698   0.085689\n",
      "  0.13295  -0.1807   -0.11854  -0.82985   0.13784  -0.34359  -0.45744\n",
      "  0.49646   0.34906 ]\n",
      "year [ 4.4234e-01  4.8431e-01  3.7284e-01 -5.2861e-01  2.1558e-01 -4.6290e-01\n",
      "  6.0307e-01  7.1816e-01 -4.1382e-01  1.5157e-01 -2.9360e-02 -1.2905e-02\n",
      "  2.4569e-01 -2.6380e-02  2.8137e-04 -4.1139e-01  1.6784e-01 -9.4465e-02\n",
      " -3.9723e-01  2.5608e-01  3.9144e-01 -1.4293e-01  1.5430e-01  1.1509e+00\n",
      "  5.1744e-01 -4.2260e-01 -7.9870e-02 -7.7108e-01  7.8489e-02 -4.9301e-01\n",
      " -1.4824e-01  1.6366e-01  2.3525e-01 -3.2219e-01 -5.0613e-01  6.8354e-01\n",
      " -3.9673e-01  4.8081e-01 -5.9104e-01 -1.9323e-01 -2.8618e-01 -1.6291e-01\n",
      "  4.8853e-01  3.7437e-02  3.9265e-02  2.5850e-02  4.7258e-01 -1.3542e+00\n",
      "  2.6895e-02 -1.2436e+00 -1.3284e-01 -9.8070e-01  3.9823e-01  1.1715e+00\n",
      " -4.9008e-01 -2.8411e+00 -1.7090e-01 -2.1840e-01  2.0011e+00  5.9575e-01\n",
      " -3.6505e-01  7.8590e-01 -4.5694e-01  7.0966e-02  1.8904e-01  2.2404e-01\n",
      "  6.0091e-02  5.0271e-02  8.2711e-01 -2.4997e-01  4.6051e-01 -1.1298e-01\n",
      " -1.0912e+00  1.4487e-01 -8.3451e-01  1.2452e-01 -2.6793e-01  2.7680e-02\n",
      " -1.4872e+00 -1.8120e-01  8.8620e-01 -5.3061e-02 -4.9827e-01  3.1571e-01\n",
      " -1.1596e+00 -1.8781e-01  1.5968e-01 -5.7221e-01 -4.7602e-02 -3.2081e-01\n",
      " -7.0405e-02  3.6944e-01 -4.2656e-01 -8.0083e-02 -8.7588e-01  2.8568e-01\n",
      "  9.9353e-02  3.8253e-01  4.7456e-01 -6.5050e-01]\n",
      "day [-3.6689e-01  4.1540e-01  1.3478e-01 -1.7841e-01 -4.0050e-01  2.0647e-01\n",
      "  4.2742e-01  1.1290e+00 -8.3981e-01 -4.7955e-01  2.1115e-02 -1.8319e-01\n",
      "  2.4588e-01 -2.9048e-02  2.9683e-01 -4.4613e-01  1.7493e-01 -1.6619e-01\n",
      " -4.9573e-01 -2.6547e-02  7.6369e-01 -2.0810e-01  2.6494e-01  3.3085e-01\n",
      "  5.7039e-01  1.2832e-01 -2.8324e-01  7.8652e-02  3.8330e-01 -7.4012e-02\n",
      " -5.6725e-01 -2.5826e-01  1.4013e-01  1.1077e-01 -2.1629e-01  4.0637e-01\n",
      " -4.5740e-01  2.7936e-01  1.6717e-01 -1.6388e-01 -6.9184e-01 -3.1493e-01\n",
      "  6.5592e-01 -2.2426e-03 -1.6975e-02  1.0777e-01 -1.8928e-01 -7.7079e-01\n",
      "  2.4333e-01 -1.1467e+00  1.2931e-01 -5.9668e-01  5.2350e-01  1.0476e+00\n",
      " -8.3517e-01 -2.6268e+00 -3.2837e-01  2.4767e-01  2.1535e+00  6.0561e-01\n",
      " -5.4019e-01  9.9737e-01 -1.8484e-01 -4.7044e-01 -1.9265e-02  3.4195e-01\n",
      "  3.1006e-01 -3.1499e-01  2.9990e-01 -3.7647e-01 -1.0041e-01 -4.8373e-01\n",
      " -3.8982e-01 -3.4424e-01 -1.2195e-01  5.8945e-01 -1.5675e-01 -3.3774e-01\n",
      " -1.0446e+00 -3.7927e-02  3.8237e-01 -6.3733e-02 -1.2990e-01  1.2899e-01\n",
      " -1.4625e+00 -2.2875e-01 -3.6410e-01 -1.0337e-01  2.3737e-01 -2.3498e-01\n",
      "  1.5801e-01  3.8339e-02  1.3424e-02  3.2535e-01 -1.1755e+00  4.9695e-02\n",
      "  5.7227e-01  2.4380e-02  2.2106e-01  4.3169e-01]\n",
      "area [-0.404     0.17837   0.2692    0.026579 -0.087215  0.21388  -0.037505\n",
      "  0.6475    0.46008   0.20449  -0.11145  -0.63107   0.70219  -0.65776\n",
      "  0.65796  -0.55481   0.43058  -0.3786   -1.0637   -0.13743   0.36824\n",
      "  0.5531    0.25801  -0.27067  -0.57316  -0.58589   0.22478  -0.45185\n",
      " -0.6907   -0.26828  -0.31529  -0.25309   0.82485   0.66125   0.47154\n",
      " -0.33202   0.15191   0.54799   0.23243   0.12149  -0.35724  -0.54129\n",
      " -0.020729 -0.063098  0.69429   0.30491   0.37609   0.21313   0.50835\n",
      "  0.077025 -0.43595   0.15544  -0.16539   0.86315  -0.41518  -2.4486\n",
      " -0.3564   -0.79141   2.019     0.35921  -0.049712  1.1743    0.36535\n",
      "  0.27387   1.0065   -0.17637   0.41959  -0.60818   0.66964   0.28883\n",
      " -0.37955  -0.37196   0.65425  -0.52368   0.47552  -0.79957   0.23756\n",
      "  0.77284  -0.71264   0.51529   0.43453   0.43299  -0.91983   0.19923\n",
      " -0.48566   0.19976   0.11262  -0.22549   0.37315   0.55712  -0.062835\n",
      " -0.44359  -0.40692   0.11252  -0.92161   0.95919  -0.17863   0.096509\n",
      "  0.87043  -0.028347]\n",
      "u [-0.031087   0.22155    0.44494    0.92176   -0.18663    0.069117\n",
      "  0.3293     0.26915    0.15562    0.31308    0.61152   -0.11215\n",
      "  0.21906    0.49481    0.087445   0.09159   -0.14941   -0.003524\n",
      "  0.035123   0.42403    1.3093     0.38263   -0.40788    0.16399\n",
      " -0.40562    0.87825    0.38619    0.4563     0.90609   -0.48334\n",
      "  0.3058     1.1697     0.22698    0.40321   -0.19317    0.46835\n",
      "  0.50217    1.2198     0.11228   -0.70321    0.16696   -0.13545\n",
      "  0.14074   -0.50954    0.10954    0.070928  -0.43888    0.57235\n",
      "  0.28055    0.44428   -0.39781    0.28689    0.40588    0.25379\n",
      "  0.022166  -0.77768   -0.28908    0.52274    1.0746    -0.18212\n",
      " -1.1388    -0.55753   -0.7822    -0.31826    0.43901    0.71711\n",
      "  0.70671    0.842      0.014151   0.37457    0.26225    0.47146\n",
      "  0.19087   -1.096      0.35595    0.25326   -0.086234   0.69395\n",
      " -0.0077498 -0.35524   -0.11673   -1.5351    -0.22939   -0.1914\n",
      " -0.94135    0.33092    0.35075   -1.6227     0.42651   -0.10422\n",
      " -0.10879    0.81115   -0.26946    0.47199    0.0848    -0.70241\n",
      "  0.18598   -0.67097    0.24698   -0.62001  ]\n"
     ]
    }
   ],
   "source": [
    "for key in sorted(word_idx, key=word_idx.get)[:10]:\n",
    "  print(key,end=' ')\n",
    "  print(embeddings_idx.get(key))"
   ]
  },
  {
   "cell_type": "markdown",
   "metadata": {},
   "source": [
    "### with dropout"
   ]
  },
  {
   "cell_type": "code",
   "execution_count": 20,
   "metadata": {},
   "outputs": [
    {
     "name": "stdout",
     "output_type": "stream",
     "text": [
      "Model: \"sequential\"\n",
      "_________________________________________________________________\n",
      "Layer (type)                 Output Shape              Param #   \n",
      "=================================================================\n",
      "embedding (Embedding)        (None, 32, 100)           2693000   \n",
      "_________________________________________________________________\n",
      "conv1d (Conv1D)              (None, 32, 128)           12928     \n",
      "_________________________________________________________________\n",
      "max_pooling1d (MaxPooling1D) (None, 16, 128)           0         \n",
      "_________________________________________________________________\n",
      "bidirectional (Bidirectional (None, 128)               98816     \n",
      "_________________________________________________________________\n",
      "dense (Dense)                (None, 100)               12900     \n",
      "_________________________________________________________________\n",
      "dropout (Dropout)            (None, 100)               0         \n",
      "_________________________________________________________________\n",
      "dense_1 (Dense)              (None, 1)                 101       \n",
      "=================================================================\n",
      "Total params: 2,817,745\n",
      "Trainable params: 2,817,745\n",
      "Non-trainable params: 0\n",
      "_________________________________________________________________\n"
     ]
    }
   ],
   "source": [
    "vocab_size = len(word_idx)\n",
    "\n",
    "tf.keras.backend.clear_session()\n",
    "tf.random.set_seed(42)\n",
    "np.random.seed(42)\n",
    "\n",
    "model2d = tf.keras.Sequential([\n",
    "    keras.layers.Embedding(vocab_size+1, embedding_dim, input_length= max_length, weights= [embedding_matrix]),\n",
    "    keras.layers.Conv1D(128, 1, activation= 'relu'),\n",
    "    keras.layers.MaxPooling1D(2, padding= 'same'),\n",
    "    keras.layers.Bidirectional(keras.layers.LSTM(64)),\n",
    "    keras.layers.Dense(100, kernel_regularizer=keras.regularizers.l1(0.01), activation= 'relu'),\n",
    "    keras.layers.Dropout(0.2),\n",
    "    keras.layers.Dense(1, kernel_regularizer = keras.regularizers.l1(0.01), activation= 'sigmoid')\n",
    "])\n",
    "\n",
    "model2d.compile(loss= 'binary_crossentropy', optimizer= 'adam', metrics= ['accuracy'])\n",
    "model2d.summary()"
   ]
  },
  {
   "cell_type": "code",
   "execution_count": 21,
   "metadata": {},
   "outputs": [
    {
     "name": "stdout",
     "output_type": "stream",
     "text": [
      "Epoch 1/10\n",
      "1107/1107 [==============================] - 78s 65ms/step - loss: 1.1241 - accuracy: 0.7779 - val_loss: 0.4659 - val_accuracy: 0.8630\n",
      "Epoch 2/10\n",
      "1107/1107 [==============================] - 70s 64ms/step - loss: 0.3823 - accuracy: 0.9113 - val_loss: 0.4023 - val_accuracy: 0.8861\n",
      "Epoch 3/10\n",
      "1107/1107 [==============================] - 77s 69ms/step - loss: 0.2773 - accuracy: 0.9570 - val_loss: 0.3699 - val_accuracy: 0.9143\n",
      "Epoch 4/10\n",
      "1107/1107 [==============================] - 80s 72ms/step - loss: 0.2320 - accuracy: 0.9740 - val_loss: 0.3749 - val_accuracy: 0.9199\n",
      "Epoch 5/10\n",
      "1107/1107 [==============================] - 68s 61ms/step - loss: 0.2021 - accuracy: 0.9847 - val_loss: 0.3856 - val_accuracy: 0.9206\n",
      "Epoch 6/10\n",
      "1107/1107 [==============================] - 70s 63ms/step - loss: 0.1892 - accuracy: 0.9888 - val_loss: 0.3933 - val_accuracy: 0.9210\n",
      "Epoch 7/10\n",
      "1107/1107 [==============================] - 71s 64ms/step - loss: 0.1841 - accuracy: 0.9909 - val_loss: 0.4041 - val_accuracy: 0.9203\n",
      "Epoch 8/10\n",
      "1107/1107 [==============================] - 72s 65ms/step - loss: 0.1768 - accuracy: 0.9925 - val_loss: 0.3996 - val_accuracy: 0.9203\n",
      "Epoch 9/10\n",
      "1107/1107 [==============================] - 63s 57ms/step - loss: 0.1740 - accuracy: 0.9929 - val_loss: 0.4202 - val_accuracy: 0.9213\n",
      "Epoch 10/10\n",
      "1107/1107 [==============================] - 71s 64ms/step - loss: 0.1670 - accuracy: 0.9951 - val_loss: 0.4180 - val_accuracy: 0.9235\n",
      "0.9153262244713537\n",
      "0.8830963665086888\n",
      "0.928378658916338\n",
      "0.9051715413419695\n"
     ]
    }
   ],
   "source": [
    "history = model2d.fit(training_padded, train_labels, epochs= 10, validation_split= 0.2)\n",
    "res = (model2d.predict(testing_padded) > 0.5).astype(int).reshape(-1)\n",
    "print(accuracy_score(y_true = test_labels, y_pred = res))\n",
    "print(recall_score(y_true = test_labels, y_pred = res))\n",
    "print(precision_score(y_true = test_labels, y_pred = res))\n",
    "print(f1_score(y_true = test_labels, y_pred = res))"
   ]
  },
  {
   "cell_type": "code",
   "execution_count": 22,
   "metadata": {},
   "outputs": [
    {
     "data": {
      "text/plain": [
       "<matplotlib.legend.Legend at 0x21f96ca0f70>"
      ]
     },
     "execution_count": 22,
     "metadata": {},
     "output_type": "execute_result"
    },
    {
     "data": {
      "image/png": "[encoded data removed]",
      "text/plain": [
       "<Figure size 432x288 with 1 Axes>"
      ]
     },
     "metadata": {
      "needs_background": "light"
     },
     "output_type": "display_data"
    },
    {
     "data": {
      "image/png": "[encoded data removed]",
      "text/plain": [
       "<Figure size 432x288 with 1 Axes>"
      ]
     },
     "metadata": {
      "needs_background": "light"
     },
     "output_type": "display_data"
    }
   ],
   "source": [
    "plt.plot(history.history['loss'], label='Training loss')\n",
    "plt.plot(history.history['val_loss'], color='red', label='cv loss')\n",
    "plt.legend()\n",
    "plt.figure()\n",
    "plt.plot(history.history['accuracy'], label='Training accuracy')\n",
    "plt.plot(history.history['val_accuracy'], color='red', label='cv accuracy')\n",
    "plt.legend()"
   ]
  },
  {
   "cell_type": "markdown",
   "metadata": {},
   "source": [
    "### without dropout"
   ]
  },
  {
   "cell_type": "code",
   "execution_count": 23,
   "metadata": {},
   "outputs": [
    {
     "name": "stdout",
     "output_type": "stream",
     "text": [
      "Model: \"sequential\"\n",
      "_________________________________________________________________\n",
      "Layer (type)                 Output Shape              Param #   \n",
      "=================================================================\n",
      "embedding (Embedding)        (None, 32, 100)           2693000   \n",
      "_________________________________________________________________\n",
      "conv1d (Conv1D)              (None, 32, 128)           12928     \n",
      "_________________________________________________________________\n",
      "max_pooling1d (MaxPooling1D) (None, 16, 128)           0         \n",
      "_________________________________________________________________\n",
      "bidirectional (Bidirectional (None, 128)               98816     \n",
      "_________________________________________________________________\n",
      "dense (Dense)                (None, 100)               12900     \n",
      "_________________________________________________________________\n",
      "dense_1 (Dense)              (None, 1)                 101       \n",
      "=================================================================\n",
      "Total params: 2,817,745\n",
      "Trainable params: 2,817,745\n",
      "Non-trainable params: 0\n",
      "_________________________________________________________________\n"
     ]
    }
   ],
   "source": [
    "vocab_size = len(word_idx)\n",
    "\n",
    "tf.keras.backend.clear_session()\n",
    "tf.random.set_seed(42)\n",
    "np.random.seed(42)\n",
    "\n",
    "model2 = tf.keras.Sequential([\n",
    "    keras.layers.Embedding(vocab_size+1, embedding_dim, input_length= max_length, weights= [embedding_matrix]),\n",
    "    keras.layers.Conv1D(128, 1, activation= 'relu'),\n",
    "    keras.layers.MaxPooling1D(2, padding= 'same'),\n",
    "    keras.layers.Bidirectional(keras.layers.LSTM(64)),\n",
    "    keras.layers.Dense(100, kernel_regularizer=keras.regularizers.l1(0.01), activation= 'relu'),\n",
    "    keras.layers.Dense(1, kernel_regularizer = keras.regularizers.l1(0.01), activation= 'sigmoid')\n",
    "])\n",
    "\n",
    "model2.compile(loss= 'binary_crossentropy', optimizer= 'adam', metrics= ['accuracy'])\n",
    "model2.summary()"
   ]
  },
  {
   "cell_type": "code",
   "execution_count": 24,
   "metadata": {},
   "outputs": [
    {
     "name": "stdout",
     "output_type": "stream",
     "text": [
      "Epoch 1/10\n",
      "1107/1107 [==============================] - 84s 68ms/step - loss: 1.0878 - accuracy: 0.7895 - val_loss: 0.4314 - val_accuracy: 0.8632\n",
      "Epoch 2/10\n",
      "1107/1107 [==============================] - 78s 71ms/step - loss: 0.3212 - accuracy: 0.9204 - val_loss: 0.3634 - val_accuracy: 0.8972\n",
      "Epoch 3/10\n",
      "1107/1107 [==============================] - 80s 72ms/step - loss: 0.2093 - accuracy: 0.9654 - val_loss: 0.3217 - val_accuracy: 0.9179\n",
      "Epoch 4/10\n",
      "1107/1107 [==============================] - 79s 71ms/step - loss: 0.1576 - accuracy: 0.9819 - val_loss: 0.3267 - val_accuracy: 0.9244\n",
      "Epoch 5/10\n",
      "1107/1107 [==============================] - 81s 73ms/step - loss: 0.1312 - accuracy: 0.9891 - val_loss: 0.3525 - val_accuracy: 0.9227\n",
      "Epoch 6/10\n",
      "1107/1107 [==============================] - 79s 72ms/step - loss: 0.1183 - accuracy: 0.9927 - val_loss: 0.3600 - val_accuracy: 0.9224\n",
      "Epoch 7/10\n",
      "1107/1107 [==============================] - 85s 77ms/step - loss: 0.1109 - accuracy: 0.9944 - val_loss: 0.3668 - val_accuracy: 0.9235\n",
      "Epoch 8/10\n",
      "1107/1107 [==============================] - 89s 81ms/step - loss: 0.1057 - accuracy: 0.9958 - val_loss: 0.3464 - val_accuracy: 0.9250\n",
      "Epoch 9/10\n",
      "1107/1107 [==============================] - 80s 72ms/step - loss: 0.1023 - accuracy: 0.9966 - val_loss: 0.3873 - val_accuracy: 0.9232\n",
      "Epoch 10/10\n",
      "1107/1107 [==============================] - 73s 66ms/step - loss: 0.1004 - accuracy: 0.9971 - val_loss: 0.3802 - val_accuracy: 0.9212\n",
      "0.9165009940357853\n",
      "0.9184439178515008\n",
      "0.9010073614877955\n",
      "0.9096420887932721\n"
     ]
    }
   ],
   "source": [
    "history = model2.fit(training_padded, train_labels, epochs= 10, validation_split= 0.2)\n",
    "res = (model2.predict(testing_padded) > 0.5).astype(int).reshape(-1)\n",
    "print(accuracy_score(y_true = test_labels, y_pred = res))\n",
    "print(recall_score(y_true = test_labels, y_pred = res))\n",
    "print(precision_score(y_true = test_labels, y_pred = res))\n",
    "print(f1_score(y_true = test_labels, y_pred = res))"
   ]
  },
  {
   "cell_type": "code",
   "execution_count": 25,
   "metadata": {},
   "outputs": [
    {
     "data": {
      "text/plain": [
       "<matplotlib.legend.Legend at 0x21fa0804760>"
      ]
     },
     "execution_count": 25,
     "metadata": {},
     "output_type": "execute_result"
    },
    {
     "data": {
      "image/png": "[encoded data removed]",
      "text/plain": [
       "<Figure size 432x288 with 1 Axes>"
      ]
     },
     "metadata": {
      "needs_background": "light"
     },
     "output_type": "display_data"
    },
    {
     "data": {
      "image/png": "[encoded data removed]",
      "text/plain": [
       "<Figure size 432x288 with 1 Axes>"
      ]
     },
     "metadata": {
      "needs_background": "light"
     },
     "output_type": "display_data"
    }
   ],
   "source": [
    "plt.plot(history.history['loss'], label='Training loss')\n",
    "plt.plot(history.history['val_loss'], color='red', label='cv loss')\n",
    "plt.legend()\n",
    "plt.figure()\n",
    "plt.plot(history.history['accuracy'], label='Training accuracy')\n",
    "plt.plot(history.history['val_accuracy'], color='red', label='cv accuracy')\n",
    "plt.legend()"
   ]
  },
  {
   "cell_type": "markdown",
   "metadata": {},
   "source": [
    "## FINDINGS\n",
    "\n",
    "#### methodology\n",
    "* We implement 4 types of models with various combinations of Dropout and different word embeddings as input\n",
    "* We assume all sentences to be of length = 32, as 99.99%ile of sentences are  <= 25 in length \n",
    "* Base design :\n",
    "  * We have a embeddings layer -> passed to Conv1D -> maxpool -> Bidirectional LSTM -> Dense Layers -> output\n",
    "* Model category 1:-\n",
    "  * Using simple embeddings layers as input\n",
    "  * Model category 1a :-\n",
    "    * Uses Dropout regularization + Base Design\n",
    "  * Model category 1b :-\n",
    "    * No dropout regularization + Base design\n",
    "* Model category 2 :\n",
    "  * Uses 100 length GloVE embeddings as embeddings layer\n",
    "  * Model category 2a :- \n",
    "    * Dropout regularization + GloVE embeddings layer + Base design\n",
    "  * Model category 2b :-\n",
    "    * no dropout + GloVE embeddings layer + Base design\n",
    "  \n",
    "#### observations\n",
    "* Dropout regularization either keeps performance almost identical or leads to a decrease in performance for both types of models considered\n",
    "  * hence dropuout is not beneficial to this model design\n",
    "* GloVE embeddings in embeddings layer do not increase performance(accuracy) as compared to normal embeddings layer as input \n",
    "  \n",
    "### note:\n",
    "* we simply predict '1' if the predicted probability of a model is > 0.5 and false otherwise. Tweaking the '0.5' could lead to different performance measures"
   ]
  },
  {
   "cell_type": "markdown",
   "metadata": {},
   "source": [
    "### EXPERIMENTS & CONCLUSIONS: \n",
    "* To increase size of dataset, we append the datasets Sarcasm_detection and Saracasm_detection_v2. This gives a corpus of 55,528 news headlines.\n",
    "  * To evaluate model performance, we first create a test set, that we keep alien from the training set. We then evaluate the model on the test set.\n",
    "    * Size of test set = 11,066 (20% of 55,328)\n",
    "    * Size of training set = 44,262 (80% of 55,328)\n",
    "  * We then train the model on the training set with a cross validation split of 0.2\n",
    "  * Finally we evaluate the performance of the model on the test set, using accuracy as a metric.\n",
    "\n",
    "* We do not remove stopwords (conjunctions, connectors etc.) as we feel they are important in the context of sarcasm detection.\n",
    "\n",
    "#### Model specific information:\n",
    "\n",
    "##### LSTM model:\n",
    "* Apart from running simple LSTM models, we also check performances with addition of dropout regularization\n",
    "* **Experiment conditions:**\n",
    "    * Number of epochs = 30\n",
    "    * Batch size = 256\n",
    "    * Optimizer = Adam\n",
    "    * Learning rate = 0.01\n",
    "    * Loss function = binary cross entropy\n",
    "* We note that dropout regularization, reduces the problem of overfitting, and provides better performance on both the validation and test data.\n",
    "* _Without dropout :_ \n",
    "  * Train Accuracy = 99.85%\n",
    "  * Validation accuracy = 92.251%\n",
    "  * Test accuracy = 94.26%\n",
    "* _With dropout :_\n",
    "    * Train accuracy = 99.81%\n",
    "    * Validation accuracy = 94.33%\n",
    "    * Test accuracy = 95.12%\n",
    "    * Test recall = 94.87%\n",
    "    * Test precision = 94.72%\n",
    "    * Test f1 score = 94.79%\n",
    "\n",
    "##### BERT model :\n",
    "* Experiment conditions : \n",
    "  * Number of epochs = 3\n",
    "  * Batch size = 32\n",
    "  * Optimizer = Adam\n",
    "  * Learning rate = 1e-5\n",
    "  * Loss function = binary cross entropy\n",
    "* Through trial and error we notice that the performance of the BERT model is best assuming a sentence length of 20 words.\n",
    "\n",
    "* We noted that the performance of the model shot up (test accuracy : 92.34% inc. to 97.54%) on increasing data (data was increased by appending Sarcasm_detection_v2 dataset to the original Sarcasm_detection.json dataset)\n",
    "\n",
    "* **Observations :-**\n",
    "  * train accuracy = 98.47%\n",
    "  * validation accuracy = 97.31%\n",
    "\n",
    "* We also see that predicting true for higher predicted probabilities yields better results : \n",
    "  * _predicting true for predicted probability >= 0.7:_ \n",
    "    *   test accuracy = 97.734%\n",
    "    *   recall = 97.91%\n",
    "    *   precision = 97.20%\n",
    "    *   f1_score = 97.55%\n",
    "  \n",
    "  * _predicting true for predicted probability >= 0.5:_\n",
    "    * test accuracy = 97.542%\n",
    "    * recall = 98.30%\n",
    "    * precision = 96.44%\n",
    "    * f1_score = 97.36%\n",
    "  \n",
    "  * _predicting true for predicted probability >= 0.3:_ \n",
    "    * test accuracy = 96.952%\n",
    "    * recall = 98.67%\n",
    "    * precision = 94.93%\n",
    "    * f1_score = 96.76%\n",
    "  \n",
    "* **These observations lead us to conclude that model performance(wrt test accuracy) is better with increase in the precision. That is, the dataset seems to place a higher importance on minimizing the number of false positives**.\n",
    "\n",
    "\n",
    "##### CNN + BiLSTM model : \n",
    "* We assume a length of **32 words** for each sentence. \n",
    "  * _Reason for this assumption_ :\n",
    "    * during EDA(exploratory data analysis), we found that 99.99% of the sentences are <= 25 words in length. Henceassuming that the max length fo a sentence could be ~ 3 words before or after the likely sentence length, we can assume that the length of a sentence could be 32 words.\n",
    "\n",
    "* _Embeddings we use :_ \n",
    "  * Simple embeddings layer\n",
    "  * Glove 100d embeddings vectors\n",
    "\n",
    "* _Regularization techniques used :_\n",
    "  * Dropout regularization\n",
    "  * L2 regularization\n",
    "\n",
    "* On evaluating the performance of all the combinations we note the following :\n",
    "    * **Experiment conditions:** \n",
    "        Number of epochs = 10\n",
    "        Batch size = 32\n",
    "        Optimizer = Adam\n",
    "        Learning rate = 0.01\n",
    "        Loss function = binary cross entropy\n",
    "\n",
    "      * _Using dropout regularization and simple embeddings layer_ : \n",
    "        * Train accuracy = 99.40%\n",
    "        * Cross validation accuracy = 91.12%\n",
    "        * Test accuracy = 90.76%\n",
    "        * Test recall = 89.94%\n",
    "        * Test precision = 89.87%\n",
    "        * Test f1 score = 89.91%\n",
    "  \n",
    "      * _Using no dropout regularization and simple embeddings layer :_\n",
    "        * Train accuracy = 99.71%\n",
    "        * Cross validation accuracy = 91.20%\n",
    "        * Test accuracy = 90.81%\n",
    "        * Test recall = 90.86%\n",
    "        * Test precision = 89.25%\n",
    "        * Test f1 score = 90.04%\n",
    "  \n",
    "      * _Using dropout regularization and GloVe 100d embeddings layer :_\n",
    "        * Train accuracy = 99.51%\n",
    "        * Cross validation accuracy = 92.35%\n",
    "        * Test accuracy = 91.53%\n",
    "        * Test recall = 88.30%\n",
    "        * Test precision = 92.84%\n",
    "        * Test f1 score = 90.52%\n",
    "  \n",
    "      * _Using no dropout regularization and GloVe 100d embeddings layer :_\n",
    "        * Train accuracy = 99.71%\n",
    "        * Cross validation accuracy = 92.12%\n",
    "        * Test accuracy = 91.65%\n",
    "        * Test recall = 91.84%\n",
    "        * Test precision = 90.10%\n",
    "        * Test f1 score = 90.96%\n",
    "    \n",
    "\n",
    "* **From these observations we see that dropout regularization either keeps performance almost identical or leads to a decrease in performance for both types of models considered**. Hence we may arrive at either of the following conclusions:\n",
    "    1. Dropout regularization is not beneficial to this type of model design.\n",
    "    2. We may be running the model for far too few iterations (due to computing restrictions) and thus are not able to witness the effect of dropout regularization.\n",
    "\n",
    "* **Moreover, the use of GloVe embeddings improves the performance of the model** (both the models with GloVe embeddings layer as input performed better than models with simple embeddings layer as input).\n",
    "\n",
    "    \n",
    "\n",
    "    "
   ]
  }
 ],
 "metadata": {
  "interpreter": {
   "hash": "4acd6f3bc858e5ce5cb034395b6da0c4956a6cf4e023a021bc662e3327e61897"
  },
  "kernelspec": {
   "display_name": "Python 3.8.12 64-bit ('DL_tf': conda)",
   "name": "python3"
  },
  "language_info": {
   "codemirror_mode": {
    "name": "ipython",
    "version": 3
   },
   "file_extension": ".py",
   "mimetype": "text/x-python",
   "name": "python",
   "nbconvert_exporter": "python",
   "pygments_lexer": "ipython3",
   "version": "3.8.12"
  },
  "orig_nbformat": 4
 },
 "nbformat": 4,
 "nbformat_minor": 2
}
